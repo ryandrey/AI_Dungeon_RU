{
  "nbformat": 4,
  "nbformat_minor": 0,
  "metadata": {
    "colab": {
      "name": "AI_Dungeon_RU.ipynb",
      "provenance": [],
      "authorship_tag": "ABX9TyPHYNJyCQ/pO96i8F0YQf6H",
      "include_colab_link": true
    },
    "kernelspec": {
      "name": "python3",
      "display_name": "Python 3"
    },
    "language_info": {
      "name": "python"
    },
    "accelerator": "GPU"
  },
  "cells": [
    {
      "cell_type": "markdown",
      "metadata": {
        "id": "view-in-github",
        "colab_type": "text"
      },
      "source": [
        "<a href=\"https://colab.research.google.com/github/ryandrey/AI_Dungeon_RU/blob/main/AI_Dungeon_RU.ipynb\" target=\"_parent\"><img src=\"https://colab.research.google.com/assets/colab-badge.svg\" alt=\"Open In Colab\"/></a>"
      ]
    },
    {
      "cell_type": "code",
      "metadata": {
        "colab": {
          "base_uri": "https://localhost:8080/"
        },
        "id": "pQDpUIm3d9Z2",
        "outputId": "39ac0e71-0ed4-4fad-9135-2cefbadf66f8"
      },
      "source": [
        "#@title ← Нажмите на эту кнопку, для начала игры\n",
        "from google.colab import drive\n",
        "from IPython.display import clear_output\n",
        "from IPython import os\n",
        "\n",
        "\n",
        "print('----------------------------------------------------')\n",
        "print(\"Привет! Для начала требуется подключиться к google drive\")\n",
        "print('Подключение колаба к google drive.')\n",
        "print('----------------------------------------------------\\n\\n')\n",
        "drive.mount('/content/gdrive')\n",
        "\n",
        "\n",
        "root_dir = \"/content/gdrive/MyDrive/\"\n",
        "\n",
        "gamename = \"AI_Dungeon_RU\"\n",
        "gamefolder = \"AI_Dungeon_RU\"\n",
        "gamepath = \"/content/gdrive/My Drive/AI_Dungeon_RU\"\n",
        "remotegit = \"https://github.com/ryandrey/AI_Dungeon_RU\"\n",
        "\n",
        "if os.path.isdir(gamepath):\n",
        "    print('\\n\\n----------------------------------------------------')\n",
        "    print(str(gamename) + \"'s folder found!\")\n",
        "    print('----------------------------------------------------\\n\\n')    \n",
        "else:\n",
        "    answer = None\n",
        "    while answer not in (\"yes\",\"no\",\"y\",\"n\"):\n",
        "        try:\n",
        "            answer = input('\\n' + str(gamename) + \"'s folder not found. Do you want to install \" + str(gamename) + \"? (yes, y / no, n)\\n\\n\")\n",
        "            if answer in (\"yes\",\"y\"):\n",
        "                %cd -q $root_dir\n",
        "                !git clone --branch main $remotegit\n",
        "                %cd -q $gamefolder\n",
        "                !pip install -r requirements.txt\n",
        "\n",
        "                if os.path.isdir(gamepath):\n",
        "                    print('\\n\\n----------------------------------------------------')\n",
        "                    print(str(gamename) + \"'s successfully installed!\")\n",
        "                    print('----------------------------------------------------\\n\\n')                                           \n",
        "            elif answer in (\"no\",\"n\"):\n",
        "                input(\"\\nWithout install, the game can't run.\\nThe cell will crash now, please press ENTER...\\n\")\n",
        "                raise SystemExit\n",
        "            else:\n",
        "                print(\"Accepted inputs: yes, y, no, n.\\n\")\n",
        "        except KeyboardInterrupt:\n",
        "            print(\"Accepted inputs: yes, y, no, n.\\n\")\n",
        "\n",
        "clear_output()\n",
        "\n",
        "print('Initializing environment...\\n')\n",
        "\n",
        "\n",
        "!cd /content/gdrive/My\\ Drive/$gamefolder > /dev/null && python play.py"
      ],
      "execution_count": 2,
      "outputs": [
        {
          "output_type": "stream",
          "text": [
            "Initializing environment...\n",
            "\n",
            "\u001b[31mERROR: Could not open requirements file: [Errno 2] No such file or directory: 'requirements.txt'\u001b[0m\n",
            "2021-06-02 21:33:16.771726: I tensorflow/stream_executor/platform/default/dso_loader.cc:53] Successfully opened dynamic library libcudart.so.11.0\n",
            "Downloading: 100% 755/755 [00:00<00:00, 469kB/s]\n",
            "Downloading:  11% 349M/3.14G [00:08<01:09, 40.0MB/s]Traceback (most recent call last):\n",
            "  File \"/usr/local/lib/python3.7/dist-packages/transformers/file_utils.py\", line 1534, in get_from_cache\n",
            "    http_get(url_to_download, temp_file, proxies=proxies, resume_size=resume_size, headers=headers)\n",
            "  File \"/usr/local/lib/python3.7/dist-packages/transformers/file_utils.py\", line 1396, in http_get\n",
            "    temp_file.write(chunk)\n",
            "  File \"/usr/lib/python3.7/tempfile.py\", line 620, in func_wrapper\n",
            "    return func(*args, **kwargs)\n",
            "KeyboardInterrupt\n",
            "\n",
            "During handling of the above exception, another exception occurred:\n",
            "\n",
            "Traceback (most recent call last):\n",
            "  File \"play.py\", line 196, in <module>\n",
            "    gm = GameManager(get_generator())\n",
            "  File \"play.py\", line 15, in get_generator\n",
            "    generator = GPT3Generator(model_path=\"aoryabinin/aoryabinin_gpt_ai_dungeon_ru\")\n",
            "  File \"/content/gdrive/My Drive/AI_Dungeon_RU/gpt3generator.py\", line 122, in __init__\n",
            "    self.tokenizer = AutoModel.from_pretrained(model_path)\n",
            "  File \"/usr/local/lib/python3.7/dist-packages/transformers/models/auto/auto_factory.py\", line 381, in from_pretrained\n",
            "    return model_class.from_pretrained(pretrained_model_name_or_path, *model_args, config=config, **kwargs)\n",
            "  File \"/usr/local/lib/python3.7/dist-packages/transformers/modeling_utils.py\", line 1141, in from_pretrained\n",
            "    user_agent=user_agent,\n",
            "  File \"/usr/local/lib/python3.7/dist-packages/transformers/file_utils.py\", line 1279, in cached_path\n",
            "    local_files_only=local_files_only,\n",
            "  File \"/usr/local/lib/python3.7/dist-packages/transformers/file_utils.py\", line 1534, in get_from_cache\n",
            "    http_get(url_to_download, temp_file, proxies=proxies, resume_size=resume_size, headers=headers)\n",
            "  File \"/usr/lib/python3.7/tempfile.py\", line 639, in __exit__\n",
            "    self.close()\n",
            "  File \"/usr/lib/python3.7/tempfile.py\", line 646, in close\n",
            "    self._closer.close()\n",
            "  File \"/usr/lib/python3.7/tempfile.py\", line 580, in close\n",
            "    self.file.close()\n",
            "KeyboardInterrupt\n",
            "Downloading:  11% 349M/3.14G [00:09<01:13, 37.8MB/s]\n"
          ],
          "name": "stdout"
        }
      ]
    },
    {
      "cell_type": "code",
      "metadata": {
        "id": "YvOPR2oiegvg"
      },
      "source": [
        ""
      ],
      "execution_count": null,
      "outputs": []
    }
  ]
}