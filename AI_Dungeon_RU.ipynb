{
  "nbformat": 4,
  "nbformat_minor": 0,
  "metadata": {
    "accelerator": "GPU",
    "colab": {
      "name": "AI_Dungeon_RU.ipynb",
      "provenance": [],
      "collapsed_sections": [],
      "include_colab_link": true
    },
    "kernelspec": {
      "display_name": "Python 3",
      "language": "python",
      "name": "python3"
    },
    "language_info": {
      "codemirror_mode": {
        "name": "ipython",
        "version": 3
      },
      "file_extension": ".py",
      "mimetype": "text/x-python",
      "name": "python",
      "nbconvert_exporter": "python",
      "pygments_lexer": "ipython3",
      "version": "3.7.3"
    }
  },
  "cells": [
    {
      "cell_type": "markdown",
      "metadata": {
        "id": "view-in-github",
        "colab_type": "text"
      },
      "source": [
        "<a href=\"https://colab.research.google.com/github/ryandrey/AI_Dungeon_RU/blob/main/AI_Dungeon_RU.ipynb\" target=\"_parent\"><img src=\"https://colab.research.google.com/assets/colab-badge.svg\" alt=\"Open In Colab\"/></a>"
      ]
    },
    {
      "cell_type": "markdown",
      "metadata": {
        "id": "EUTA6eXuazyc"
      },
      "source": [
        "\n",
        "Для более удобного использования рекомендуется установить темную тему. (\"Tools\"-> \"Settings...\" -> \"Theme\" -> \"Dark\"*)\n",
        "\n"
      ]
    },
    {
      "cell_type": "markdown",
      "metadata": {
        "id": "dqrtNISaa6q3"
      },
      "source": [
        "Для игры требуется:\n",
        "\n",
        "\n",
        "1.   Google drive с минимум 6гб свободного места.\n",
        "2.   В меню выберите \"File\"-> \"Save a a copy in Drive\". Закройте данное окно и начните играть в новом окне.\n",
        "\n",
        "\n"
      ]
    },
    {
      "cell_type": "code",
      "metadata": {
        "id": "jlmeIVmVXATx",
        "cellView": "form"
      },
      "source": [
        "#@title ← Нажмите на эту кнопку, для начала игры\n",
        "from google.colab import drive\n",
        "from IPython.display import clear_output\n",
        "from IPython import os\n",
        "\n",
        "\n",
        "print('----------------------------------------------------')\n",
        "print(\"Привет! Для начала требуется подключиться к google drive\")\n",
        "print('Подключение колаба к google drive.')\n",
        "print('----------------------------------------------------\\n\\n')\n",
        "drive.mount('/content/gdrive')\n",
        "\n",
        "\n",
        "root_dir = \"/content/gdrive/MyDrive/\"\n",
        "\n",
        "gamename = \"AI_Dungeon_RU\"\n",
        "gamefolder = \"AI_Dungeon_RU\"\n",
        "gamepath = \"/content/gdrive/My Drive/AI_Dungeon_RU\"\n",
        "remotegit = \"https://github.com/ryandrey/AI_Dungeon_RU\"\n",
        "\n",
        "if os.path.isdir(gamepath):\n",
        "    print('\\n\\n----------------------------------------------------')\n",
        "    print(str(gamename) + \"'s folder found!\")\n",
        "    print('----------------------------------------------------\\n\\n')    \n",
        "else:\n",
        "    answer = None\n",
        "    while answer not in (\"yes\",\"no\",\"y\",\"n\"):\n",
        "        try:\n",
        "            answer = input('\\n' + str(gamename) + \"'s folder not found. Do you want to install \" + str(gamename) + \"? (yes, y / no, n)\\n\\n\")\n",
        "            if answer in (\"yes\",\"y\"):\n",
        "                %cd -q $root_dir\n",
        "                !git clone --branch main $remotegit\n",
        "                %cd -q $gamefolder\n",
        "                !pip install -r requirements.txt\n",
        "\n",
        "                if os.path.isdir(gamepath):\n",
        "                    print('\\n\\n----------------------------------------------------')\n",
        "                    print(str(gamename) + \"'s successfully installed!\")\n",
        "                    print('----------------------------------------------------\\n\\n')                                           \n",
        "            elif answer in (\"no\",\"n\"):\n",
        "                input(\"\\nWithout install, the game can't run.\\nThe cell will crash now, please press ENTER...\\n\")\n",
        "                raise SystemExit\n",
        "            else:\n",
        "                print(\"Accepted inputs: yes, y, no, n.\\n\")\n",
        "        except KeyboardInterrupt:\n",
        "            print(\"Accepted inputs: yes, y, no, n.\\n\")\n",
        "\n",
        "clear_output()\n",
        "\n",
        "print('Initializing environment...\\n')\n",
        "!pip install -r requirements.txt > /dev/null\n",
        "\n",
        "\n",
        "!cd /content/gdrive/My\\ Drive/$gamefolder > /dev/null && python play.py"
      ],
      "execution_count": null,
      "outputs": []
    }
  ]
}