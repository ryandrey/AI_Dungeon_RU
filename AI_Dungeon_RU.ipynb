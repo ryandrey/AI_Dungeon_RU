{
  "nbformat": 4,
  "nbformat_minor": 0,
  "metadata": {
    "colab": {
      "name": "AI_Dungeon_RU.ipynb",
      "provenance": [],
      "authorship_tag": "ABX9TyN8DGqt5fMXmsNvlN0gQzEr",
      "include_colab_link": true
    },
    "kernelspec": {
      "name": "python3",
      "display_name": "Python 3"
    },
    "language_info": {
      "name": "python"
    },
    "accelerator": "GPU"
  },
  "cells": [
    {
      "cell_type": "markdown",
      "metadata": {
        "id": "view-in-github",
        "colab_type": "text"
      },
      "source": [
        "<a href=\"https://colab.research.google.com/github/ryandrey/AI_Dungeon_RU/blob/main/AI_Dungeon_RU.ipynb\" target=\"_parent\"><img src=\"https://colab.research.google.com/assets/colab-badge.svg\" alt=\"Open In Colab\"/></a>"
      ]
    },
    {
      "cell_type": "code",
      "metadata": {
        "id": "pQDpUIm3d9Z2",
        "cellView": "form"
      },
      "source": [
        "#@title ← Нажмите на эту кнопку, для начала игры\n",
        "from google.colab import drive\n",
        "from IPython.display import clear_output\n",
        "from IPython import os\n",
        "\n",
        "print('----------------------------------------------------')\n",
        "print(\"Привет! Для начала требуется подключиться к google drive\")\n",
        "print('Подключение колаба к google drive.')\n",
        "print('----------------------------------------------------\\n\\n')\n",
        "drive.mount('/content/gdrive')\n",
        "\n",
        "\n",
        "root_dir = \"/content/gdrive/MyDrive/\"\n",
        "\n",
        "gamename = \"AI_Dungeon_RU\"\n",
        "gamefolder = \"AI_Dungeon_RU\"\n",
        "gamepath = \"/content/gdrive/My Drive/AI_Dungeon_RU\"\n",
        "remotegit = \"https://github.com/ryandrey/AI_Dungeon_RU\"\n",
        "\n",
        "if os.path.isdir(gamepath):\n",
        "    print('\\n\\n----------------------------------------------------')\n",
        "    print(str(gamename) + \"'s folder found!\")\n",
        "    print('----------------------------------------------------\\n\\n')    \n",
        "else:\n",
        "    answer = None\n",
        "    while answer not in (\"yes\",\"no\",\"y\",\"n\"):\n",
        "        try:\n",
        "            answer = input('\\n' + str(gamename) + \"'s folder not found. Do you want to install \" + str(gamename) + \"? (yes, y / no, n)\\n\\n\")\n",
        "            if answer in (\"yes\",\"y\"):\n",
        "                %cd -q $root_dir\n",
        "                !git clone --branch main $remotegit\n",
        "                %cd -q $gamefolder\n",
        "                !pip install -r requirements.txt\n",
        "\n",
        "                if os.path.isdir(gamepath):\n",
        "                    print('\\n\\n----------------------------------------------------')\n",
        "                    print(str(gamename) + \"'s successfully installed!\")\n",
        "                    print('----------------------------------------------------\\n\\n')                                           \n",
        "            elif answer in (\"no\",\"n\"):\n",
        "                input(\"\\nWithout install, the game can't run.\\nThe cell will crash now, please press ENTER...\\n\")\n",
        "                raise SystemExit\n",
        "            else:\n",
        "                print(\"Accepted inputs: yes, y, no, n.\\n\")\n",
        "        except KeyboardInterrupt:\n",
        "            print(\"Accepted inputs: yes, y, no, n.\\n\")\n",
        "\n",
        "clear_output()\n",
        "\n",
        "print('Initializing environment...\\n')\n",
        "!cd /content/gdrive/My\\ Drive/$gamefolder > /dev/null && pip install -r requirements.txt > /dev/null\n",
        "\n",
        "!cd /content/gdrive/My\\ Drive/$gamefolder > /dev/null && python play.py"
      ],
      "execution_count": 1,
      "outputs": []
    },
    {
      "cell_type": "code",
      "metadata": {
        "id": "NzSIjkKFqyOJ"
      },
      "source": [
        ""
      ],
      "execution_count": null,
      "outputs": []
    },
    {
      "cell_type": "code",
      "metadata": {
        "id": "YvOPR2oiegvg"
      },
      "source": [
        ""
      ],
      "execution_count": null,
      "outputs": []
    }
  ]
}